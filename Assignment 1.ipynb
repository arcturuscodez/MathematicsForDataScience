{
 "cells": [
  {
   "cell_type": "code",
   "execution_count": 204,
   "metadata": {},
   "outputs": [],
   "source": [
    "import itertools as iter\n",
    "import numpy as np\n",
    "import matplotlib.pyplot as plt"
   ]
  },
  {
   "attachments": {},
   "cell_type": "markdown",
   "metadata": {},
   "source": [
    "The exercise set referred in the questions is [here](https://stats.libretexts.org/Bookshelves/Introductory_Statistics/Book%3A_Introductory_Statistics_(Shafer_and_Zhang)/03%3A_Basic_Concepts_of_Probability/3.E%3A_Basic_Concepts_of_Probability_(Exercises)) "
   ]
  },
  {
   "attachments": {},
   "cell_type": "markdown",
   "metadata": {},
   "source": [
    "1. Use ```itertools``` to solve Q3.1.3  \n",
    "\n"
   ]
  },
  {
   "cell_type": "code",
   "execution_count": 205,
   "metadata": {},
   "outputs": [
    {
     "data": {
      "text/plain": [
       "[('R', 'R'),\n",
       " ('R', 'R'),\n",
       " ('R', 'R'),\n",
       " ('R', 'R'),\n",
       " ('R', 'R'),\n",
       " ('R', 'R'),\n",
       " ('R', 'R'),\n",
       " ('R', 'R'),\n",
       " ('R', 'G'),\n",
       " ('R', 'G'),\n",
       " ('R', 'G'),\n",
       " ('R', 'G'),\n",
       " ('R', 'G'),\n",
       " ('R', 'G'),\n",
       " ('R', 'G'),\n",
       " ('R', 'G'),\n",
       " ('R', 'Y'),\n",
       " ('R', 'Y'),\n",
       " ('R', 'Y'),\n",
       " ('R', 'Y'),\n",
       " ('R', 'Y'),\n",
       " ('R', 'Y'),\n",
       " ('R', 'Y'),\n",
       " ('R', 'Y'),\n",
       " ('R', 'R'),\n",
       " ('R', 'R'),\n",
       " ('R', 'R'),\n",
       " ('R', 'R'),\n",
       " ('R', 'R'),\n",
       " ('R', 'R'),\n",
       " ('R', 'R'),\n",
       " ('R', 'R'),\n",
       " ('R', 'G'),\n",
       " ('R', 'G'),\n",
       " ('R', 'G'),\n",
       " ('R', 'G'),\n",
       " ('R', 'G'),\n",
       " ('R', 'G'),\n",
       " ('R', 'G'),\n",
       " ('R', 'G'),\n",
       " ('R', 'Y'),\n",
       " ('R', 'Y'),\n",
       " ('R', 'Y'),\n",
       " ('R', 'Y'),\n",
       " ('R', 'Y'),\n",
       " ('R', 'Y'),\n",
       " ('R', 'Y'),\n",
       " ('R', 'Y'),\n",
       " ('R', 'R'),\n",
       " ('R', 'R'),\n",
       " ('R', 'R'),\n",
       " ('R', 'R'),\n",
       " ('R', 'R'),\n",
       " ('R', 'R'),\n",
       " ('R', 'R'),\n",
       " ('R', 'R'),\n",
       " ('R', 'G'),\n",
       " ('R', 'G'),\n",
       " ('R', 'G'),\n",
       " ('R', 'G'),\n",
       " ('R', 'G'),\n",
       " ('R', 'G'),\n",
       " ('R', 'G'),\n",
       " ('R', 'G'),\n",
       " ('R', 'Y'),\n",
       " ('R', 'Y'),\n",
       " ('R', 'Y'),\n",
       " ('R', 'Y'),\n",
       " ('R', 'Y'),\n",
       " ('R', 'Y'),\n",
       " ('R', 'Y'),\n",
       " ('R', 'Y'),\n",
       " ('R', 'R'),\n",
       " ('R', 'R'),\n",
       " ('R', 'R'),\n",
       " ('R', 'R'),\n",
       " ('R', 'R'),\n",
       " ('R', 'R'),\n",
       " ('R', 'R'),\n",
       " ('R', 'R'),\n",
       " ('R', 'G'),\n",
       " ('R', 'G'),\n",
       " ('R', 'G'),\n",
       " ('R', 'G'),\n",
       " ('R', 'G'),\n",
       " ('R', 'G'),\n",
       " ('R', 'G'),\n",
       " ('R', 'G'),\n",
       " ('R', 'Y'),\n",
       " ('R', 'Y'),\n",
       " ('R', 'Y'),\n",
       " ('R', 'Y'),\n",
       " ('R', 'Y'),\n",
       " ('R', 'Y'),\n",
       " ('R', 'Y'),\n",
       " ('R', 'Y'),\n",
       " ('R', 'R'),\n",
       " ('R', 'R'),\n",
       " ('R', 'R'),\n",
       " ('R', 'R'),\n",
       " ('R', 'R'),\n",
       " ('R', 'R'),\n",
       " ('R', 'R'),\n",
       " ('R', 'R'),\n",
       " ('R', 'G'),\n",
       " ('R', 'G'),\n",
       " ('R', 'G'),\n",
       " ('R', 'G'),\n",
       " ('R', 'G'),\n",
       " ('R', 'G'),\n",
       " ('R', 'G'),\n",
       " ('R', 'G'),\n",
       " ('R', 'Y'),\n",
       " ('R', 'Y'),\n",
       " ('R', 'Y'),\n",
       " ('R', 'Y'),\n",
       " ('R', 'Y'),\n",
       " ('R', 'Y'),\n",
       " ('R', 'Y'),\n",
       " ('R', 'Y'),\n",
       " ('R', 'R'),\n",
       " ('R', 'R'),\n",
       " ('R', 'R'),\n",
       " ('R', 'R'),\n",
       " ('R', 'R'),\n",
       " ('R', 'R'),\n",
       " ('R', 'R'),\n",
       " ('R', 'R'),\n",
       " ('R', 'G'),\n",
       " ('R', 'G'),\n",
       " ('R', 'G'),\n",
       " ('R', 'G'),\n",
       " ('R', 'G'),\n",
       " ('R', 'G'),\n",
       " ('R', 'G'),\n",
       " ('R', 'G'),\n",
       " ('R', 'Y'),\n",
       " ('R', 'Y'),\n",
       " ('R', 'Y'),\n",
       " ('R', 'Y'),\n",
       " ('R', 'Y'),\n",
       " ('R', 'Y'),\n",
       " ('R', 'Y'),\n",
       " ('R', 'Y'),\n",
       " ('R', 'R'),\n",
       " ('R', 'R'),\n",
       " ('R', 'R'),\n",
       " ('R', 'R'),\n",
       " ('R', 'R'),\n",
       " ('R', 'R'),\n",
       " ('R', 'R'),\n",
       " ('R', 'R'),\n",
       " ('R', 'G'),\n",
       " ('R', 'G'),\n",
       " ('R', 'G'),\n",
       " ('R', 'G'),\n",
       " ('R', 'G'),\n",
       " ('R', 'G'),\n",
       " ('R', 'G'),\n",
       " ('R', 'G'),\n",
       " ('R', 'Y'),\n",
       " ('R', 'Y'),\n",
       " ('R', 'Y'),\n",
       " ('R', 'Y'),\n",
       " ('R', 'Y'),\n",
       " ('R', 'Y'),\n",
       " ('R', 'Y'),\n",
       " ('R', 'Y'),\n",
       " ('R', 'R'),\n",
       " ('R', 'R'),\n",
       " ('R', 'R'),\n",
       " ('R', 'R'),\n",
       " ('R', 'R'),\n",
       " ('R', 'R'),\n",
       " ('R', 'R'),\n",
       " ('R', 'R'),\n",
       " ('R', 'G'),\n",
       " ('R', 'G'),\n",
       " ('R', 'G'),\n",
       " ('R', 'G'),\n",
       " ('R', 'G'),\n",
       " ('R', 'G'),\n",
       " ('R', 'G'),\n",
       " ('R', 'G'),\n",
       " ('R', 'Y'),\n",
       " ('R', 'Y'),\n",
       " ('R', 'Y'),\n",
       " ('R', 'Y'),\n",
       " ('R', 'Y'),\n",
       " ('R', 'Y'),\n",
       " ('R', 'Y'),\n",
       " ('R', 'Y'),\n",
       " ('G', 'R'),\n",
       " ('G', 'R'),\n",
       " ('G', 'R'),\n",
       " ('G', 'R'),\n",
       " ('G', 'R'),\n",
       " ('G', 'R'),\n",
       " ('G', 'R'),\n",
       " ('G', 'R'),\n",
       " ('G', 'G'),\n",
       " ('G', 'G'),\n",
       " ('G', 'G'),\n",
       " ('G', 'G'),\n",
       " ('G', 'G'),\n",
       " ('G', 'G'),\n",
       " ('G', 'G'),\n",
       " ('G', 'G'),\n",
       " ('G', 'Y'),\n",
       " ('G', 'Y'),\n",
       " ('G', 'Y'),\n",
       " ('G', 'Y'),\n",
       " ('G', 'Y'),\n",
       " ('G', 'Y'),\n",
       " ('G', 'Y'),\n",
       " ('G', 'Y'),\n",
       " ('G', 'R'),\n",
       " ('G', 'R'),\n",
       " ('G', 'R'),\n",
       " ('G', 'R'),\n",
       " ('G', 'R'),\n",
       " ('G', 'R'),\n",
       " ('G', 'R'),\n",
       " ('G', 'R'),\n",
       " ('G', 'G'),\n",
       " ('G', 'G'),\n",
       " ('G', 'G'),\n",
       " ('G', 'G'),\n",
       " ('G', 'G'),\n",
       " ('G', 'G'),\n",
       " ('G', 'G'),\n",
       " ('G', 'G'),\n",
       " ('G', 'Y'),\n",
       " ('G', 'Y'),\n",
       " ('G', 'Y'),\n",
       " ('G', 'Y'),\n",
       " ('G', 'Y'),\n",
       " ('G', 'Y'),\n",
       " ('G', 'Y'),\n",
       " ('G', 'Y'),\n",
       " ('G', 'R'),\n",
       " ('G', 'R'),\n",
       " ('G', 'R'),\n",
       " ('G', 'R'),\n",
       " ('G', 'R'),\n",
       " ('G', 'R'),\n",
       " ('G', 'R'),\n",
       " ('G', 'R'),\n",
       " ('G', 'G'),\n",
       " ('G', 'G'),\n",
       " ('G', 'G'),\n",
       " ('G', 'G'),\n",
       " ('G', 'G'),\n",
       " ('G', 'G'),\n",
       " ('G', 'G'),\n",
       " ('G', 'G'),\n",
       " ('G', 'Y'),\n",
       " ('G', 'Y'),\n",
       " ('G', 'Y'),\n",
       " ('G', 'Y'),\n",
       " ('G', 'Y'),\n",
       " ('G', 'Y'),\n",
       " ('G', 'Y'),\n",
       " ('G', 'Y'),\n",
       " ('G', 'R'),\n",
       " ('G', 'R'),\n",
       " ('G', 'R'),\n",
       " ('G', 'R'),\n",
       " ('G', 'R'),\n",
       " ('G', 'R'),\n",
       " ('G', 'R'),\n",
       " ('G', 'R'),\n",
       " ('G', 'G'),\n",
       " ('G', 'G'),\n",
       " ('G', 'G'),\n",
       " ('G', 'G'),\n",
       " ('G', 'G'),\n",
       " ('G', 'G'),\n",
       " ('G', 'G'),\n",
       " ('G', 'G'),\n",
       " ('G', 'Y'),\n",
       " ('G', 'Y'),\n",
       " ('G', 'Y'),\n",
       " ('G', 'Y'),\n",
       " ('G', 'Y'),\n",
       " ('G', 'Y'),\n",
       " ('G', 'Y'),\n",
       " ('G', 'Y'),\n",
       " ('G', 'R'),\n",
       " ('G', 'R'),\n",
       " ('G', 'R'),\n",
       " ('G', 'R'),\n",
       " ('G', 'R'),\n",
       " ('G', 'R'),\n",
       " ('G', 'R'),\n",
       " ('G', 'R'),\n",
       " ('G', 'G'),\n",
       " ('G', 'G'),\n",
       " ('G', 'G'),\n",
       " ('G', 'G'),\n",
       " ('G', 'G'),\n",
       " ('G', 'G'),\n",
       " ('G', 'G'),\n",
       " ('G', 'G'),\n",
       " ('G', 'Y'),\n",
       " ('G', 'Y'),\n",
       " ('G', 'Y'),\n",
       " ('G', 'Y'),\n",
       " ('G', 'Y'),\n",
       " ('G', 'Y'),\n",
       " ('G', 'Y'),\n",
       " ('G', 'Y'),\n",
       " ('G', 'R'),\n",
       " ('G', 'R'),\n",
       " ('G', 'R'),\n",
       " ('G', 'R'),\n",
       " ('G', 'R'),\n",
       " ('G', 'R'),\n",
       " ('G', 'R'),\n",
       " ('G', 'R'),\n",
       " ('G', 'G'),\n",
       " ('G', 'G'),\n",
       " ('G', 'G'),\n",
       " ('G', 'G'),\n",
       " ('G', 'G'),\n",
       " ('G', 'G'),\n",
       " ('G', 'G'),\n",
       " ('G', 'G'),\n",
       " ('G', 'Y'),\n",
       " ('G', 'Y'),\n",
       " ('G', 'Y'),\n",
       " ('G', 'Y'),\n",
       " ('G', 'Y'),\n",
       " ('G', 'Y'),\n",
       " ('G', 'Y'),\n",
       " ('G', 'Y'),\n",
       " ('G', 'R'),\n",
       " ('G', 'R'),\n",
       " ('G', 'R'),\n",
       " ('G', 'R'),\n",
       " ('G', 'R'),\n",
       " ('G', 'R'),\n",
       " ('G', 'R'),\n",
       " ('G', 'R'),\n",
       " ('G', 'G'),\n",
       " ('G', 'G'),\n",
       " ('G', 'G'),\n",
       " ('G', 'G'),\n",
       " ('G', 'G'),\n",
       " ('G', 'G'),\n",
       " ('G', 'G'),\n",
       " ('G', 'G'),\n",
       " ('G', 'Y'),\n",
       " ('G', 'Y'),\n",
       " ('G', 'Y'),\n",
       " ('G', 'Y'),\n",
       " ('G', 'Y'),\n",
       " ('G', 'Y'),\n",
       " ('G', 'Y'),\n",
       " ('G', 'Y'),\n",
       " ('G', 'R'),\n",
       " ('G', 'R'),\n",
       " ('G', 'R'),\n",
       " ('G', 'R'),\n",
       " ('G', 'R'),\n",
       " ('G', 'R'),\n",
       " ('G', 'R'),\n",
       " ('G', 'R'),\n",
       " ('G', 'G'),\n",
       " ('G', 'G'),\n",
       " ('G', 'G'),\n",
       " ('G', 'G'),\n",
       " ('G', 'G'),\n",
       " ('G', 'G'),\n",
       " ('G', 'G'),\n",
       " ('G', 'G'),\n",
       " ('G', 'Y'),\n",
       " ('G', 'Y'),\n",
       " ('G', 'Y'),\n",
       " ('G', 'Y'),\n",
       " ('G', 'Y'),\n",
       " ('G', 'Y'),\n",
       " ('G', 'Y'),\n",
       " ('G', 'Y'),\n",
       " ('Y', 'R'),\n",
       " ('Y', 'R'),\n",
       " ('Y', 'R'),\n",
       " ('Y', 'R'),\n",
       " ('Y', 'R'),\n",
       " ('Y', 'R'),\n",
       " ('Y', 'R'),\n",
       " ('Y', 'R'),\n",
       " ('Y', 'G'),\n",
       " ('Y', 'G'),\n",
       " ('Y', 'G'),\n",
       " ('Y', 'G'),\n",
       " ('Y', 'G'),\n",
       " ('Y', 'G'),\n",
       " ('Y', 'G'),\n",
       " ('Y', 'G'),\n",
       " ('Y', 'Y'),\n",
       " ('Y', 'Y'),\n",
       " ('Y', 'Y'),\n",
       " ('Y', 'Y'),\n",
       " ('Y', 'Y'),\n",
       " ('Y', 'Y'),\n",
       " ('Y', 'Y'),\n",
       " ('Y', 'Y'),\n",
       " ('Y', 'R'),\n",
       " ('Y', 'R'),\n",
       " ('Y', 'R'),\n",
       " ('Y', 'R'),\n",
       " ('Y', 'R'),\n",
       " ('Y', 'R'),\n",
       " ('Y', 'R'),\n",
       " ('Y', 'R'),\n",
       " ('Y', 'G'),\n",
       " ('Y', 'G'),\n",
       " ('Y', 'G'),\n",
       " ('Y', 'G'),\n",
       " ('Y', 'G'),\n",
       " ('Y', 'G'),\n",
       " ('Y', 'G'),\n",
       " ('Y', 'G'),\n",
       " ('Y', 'Y'),\n",
       " ('Y', 'Y'),\n",
       " ('Y', 'Y'),\n",
       " ('Y', 'Y'),\n",
       " ('Y', 'Y'),\n",
       " ('Y', 'Y'),\n",
       " ('Y', 'Y'),\n",
       " ('Y', 'Y'),\n",
       " ('Y', 'R'),\n",
       " ('Y', 'R'),\n",
       " ('Y', 'R'),\n",
       " ('Y', 'R'),\n",
       " ('Y', 'R'),\n",
       " ('Y', 'R'),\n",
       " ('Y', 'R'),\n",
       " ('Y', 'R'),\n",
       " ('Y', 'G'),\n",
       " ('Y', 'G'),\n",
       " ('Y', 'G'),\n",
       " ('Y', 'G'),\n",
       " ('Y', 'G'),\n",
       " ('Y', 'G'),\n",
       " ('Y', 'G'),\n",
       " ('Y', 'G'),\n",
       " ('Y', 'Y'),\n",
       " ('Y', 'Y'),\n",
       " ('Y', 'Y'),\n",
       " ('Y', 'Y'),\n",
       " ('Y', 'Y'),\n",
       " ('Y', 'Y'),\n",
       " ('Y', 'Y'),\n",
       " ('Y', 'Y'),\n",
       " ('Y', 'R'),\n",
       " ('Y', 'R'),\n",
       " ('Y', 'R'),\n",
       " ('Y', 'R'),\n",
       " ('Y', 'R'),\n",
       " ('Y', 'R'),\n",
       " ('Y', 'R'),\n",
       " ('Y', 'R'),\n",
       " ('Y', 'G'),\n",
       " ('Y', 'G'),\n",
       " ('Y', 'G'),\n",
       " ('Y', 'G'),\n",
       " ('Y', 'G'),\n",
       " ('Y', 'G'),\n",
       " ('Y', 'G'),\n",
       " ('Y', 'G'),\n",
       " ('Y', 'Y'),\n",
       " ('Y', 'Y'),\n",
       " ('Y', 'Y'),\n",
       " ('Y', 'Y'),\n",
       " ('Y', 'Y'),\n",
       " ('Y', 'Y'),\n",
       " ('Y', 'Y'),\n",
       " ('Y', 'Y'),\n",
       " ('Y', 'R'),\n",
       " ('Y', 'R'),\n",
       " ('Y', 'R'),\n",
       " ('Y', 'R'),\n",
       " ('Y', 'R'),\n",
       " ('Y', 'R'),\n",
       " ('Y', 'R'),\n",
       " ('Y', 'R'),\n",
       " ('Y', 'G'),\n",
       " ('Y', 'G'),\n",
       " ('Y', 'G'),\n",
       " ('Y', 'G'),\n",
       " ('Y', 'G'),\n",
       " ('Y', 'G'),\n",
       " ('Y', 'G'),\n",
       " ('Y', 'G'),\n",
       " ('Y', 'Y'),\n",
       " ('Y', 'Y'),\n",
       " ('Y', 'Y'),\n",
       " ('Y', 'Y'),\n",
       " ('Y', 'Y'),\n",
       " ('Y', 'Y'),\n",
       " ('Y', 'Y'),\n",
       " ('Y', 'Y'),\n",
       " ('Y', 'R'),\n",
       " ('Y', 'R'),\n",
       " ('Y', 'R'),\n",
       " ('Y', 'R'),\n",
       " ('Y', 'R'),\n",
       " ('Y', 'R'),\n",
       " ('Y', 'R'),\n",
       " ('Y', 'R'),\n",
       " ('Y', 'G'),\n",
       " ('Y', 'G'),\n",
       " ('Y', 'G'),\n",
       " ('Y', 'G'),\n",
       " ('Y', 'G'),\n",
       " ('Y', 'G'),\n",
       " ('Y', 'G'),\n",
       " ('Y', 'G'),\n",
       " ('Y', 'Y'),\n",
       " ('Y', 'Y'),\n",
       " ('Y', 'Y'),\n",
       " ('Y', 'Y'),\n",
       " ('Y', 'Y'),\n",
       " ('Y', 'Y'),\n",
       " ('Y', 'Y'),\n",
       " ('Y', 'Y'),\n",
       " ('Y', 'R'),\n",
       " ('Y', 'R'),\n",
       " ('Y', 'R'),\n",
       " ('Y', 'R'),\n",
       " ('Y', 'R'),\n",
       " ('Y', 'R'),\n",
       " ('Y', 'R'),\n",
       " ('Y', 'R'),\n",
       " ('Y', 'G'),\n",
       " ('Y', 'G'),\n",
       " ('Y', 'G'),\n",
       " ('Y', 'G'),\n",
       " ('Y', 'G'),\n",
       " ('Y', 'G'),\n",
       " ('Y', 'G'),\n",
       " ('Y', 'G'),\n",
       " ('Y', 'Y'),\n",
       " ('Y', 'Y'),\n",
       " ('Y', 'Y'),\n",
       " ('Y', 'Y'),\n",
       " ('Y', 'Y'),\n",
       " ('Y', 'Y'),\n",
       " ('Y', 'Y'),\n",
       " ('Y', 'Y'),\n",
       " ('Y', 'R'),\n",
       " ('Y', 'R'),\n",
       " ('Y', 'R'),\n",
       " ('Y', 'R'),\n",
       " ('Y', 'R'),\n",
       " ('Y', 'R'),\n",
       " ('Y', 'R'),\n",
       " ('Y', 'R'),\n",
       " ('Y', 'G'),\n",
       " ('Y', 'G'),\n",
       " ('Y', 'G'),\n",
       " ('Y', 'G'),\n",
       " ('Y', 'G'),\n",
       " ('Y', 'G'),\n",
       " ('Y', 'G'),\n",
       " ('Y', 'G'),\n",
       " ('Y', 'Y'),\n",
       " ('Y', 'Y'),\n",
       " ('Y', 'Y'),\n",
       " ('Y', 'Y'),\n",
       " ('Y', 'Y'),\n",
       " ('Y', 'Y'),\n",
       " ('Y', 'Y'),\n",
       " ('Y', 'Y')]"
      ]
     },
     "execution_count": 205,
     "metadata": {},
     "output_type": "execute_result"
    }
   ],
   "source": [
    "#Solution here\n",
    "\n",
    "colors = ['R', 'G', 'Y']\n",
    "amount = [8, 8, 8]\n",
    "\n",
    "marblebox = []\n",
    "for color, amount in zip(colors, amount):\n",
    "    marblebox += [color] * amount\n",
    "\n",
    "#Makes two columns (box1, box2)\n",
    "sampleSpace = list(iter.product(marblebox, repeat=2))\n",
    "sampleSpace"
   ]
  },
  {
   "cell_type": "code",
   "execution_count": 206,
   "metadata": {},
   "outputs": [
    {
     "name": "stdout",
     "output_type": "stream",
     "text": [
      "576\n"
     ]
    }
   ],
   "source": [
    "#Length of samplespace\n",
    "nE = len(sampleSpace)\n",
    "print(nE)"
   ]
  },
  {
   "attachments": {},
   "cell_type": "markdown",
   "metadata": {},
   "source": [
    "2. Solve Q3.1.7"
   ]
  },
  {
   "attachments": {},
   "cell_type": "markdown",
   "metadata": {},
   "source": [
    "A"
   ]
  },
  {
   "cell_type": "code",
   "execution_count": 207,
   "metadata": {},
   "outputs": [
    {
     "name": "stdout",
     "output_type": "stream",
     "text": [
      "0.4444444444444444\n"
     ]
    }
   ],
   "source": [
    "#This iterates over every element in the samplespace ie the G, R,\n",
    "for i in sampleSpace:\n",
    "    #this parts takes the sum for every x in the sample space as long as none of the elements are = to Y\n",
    "    nA = sum(1 for x in sampleSpace if x[0] != 'Y' and x[1] != 'Y')\n",
    "    \n",
    "p = nA/nE\n",
    "print(p)"
   ]
  },
  {
   "attachments": {},
   "cell_type": "markdown",
   "metadata": {},
   "source": [
    "B"
   ]
  },
  {
   "cell_type": "code",
   "execution_count": 208,
   "metadata": {},
   "outputs": [
    {
     "name": "stdout",
     "output_type": "stream",
     "text": [
      "0.3333333333333333\n"
     ]
    }
   ],
   "source": [
    "for i in sampleSpace:\n",
    "    nA = sum(1 for x in sampleSpace if x[0] == x[1])\n",
    "    \n",
    "p = nA/nE\n",
    "print(p)"
   ]
  },
  {
   "attachments": {},
   "cell_type": "markdown",
   "metadata": {},
   "source": [
    "C"
   ]
  },
  {
   "cell_type": "code",
   "execution_count": 209,
   "metadata": {},
   "outputs": [
    {
     "name": "stdout",
     "output_type": "stream",
     "text": [
      "0.6666666666666666\n"
     ]
    }
   ],
   "source": [
    "for i in sampleSpace:\n",
    "    nA = sum(1 for x in sampleSpace if x[0] != x[1] and x[1] != x[0])\n",
    "    \n",
    "p = nA/nE\n",
    "print(p)"
   ]
  },
  {
   "attachments": {},
   "cell_type": "markdown",
   "metadata": {},
   "source": [
    "3. Solve Q3.1.11 both exactly and by using simulations."
   ]
  },
  {
   "attachments": {},
   "cell_type": "markdown",
   "metadata": {},
   "source": [
    "A"
   ]
  },
  {
   "cell_type": "code",
   "execution_count": 210,
   "metadata": {},
   "outputs": [
    {
     "name": "stdout",
     "output_type": "stream",
     "text": [
      "0.4348845\n"
     ]
    }
   ],
   "source": [
    "#yellow marble?\n",
    "Shuffle = 8000000\n",
    "a = 0\n",
    "\n",
    "for i in range(Shuffle):\n",
    "    np.random.shuffle(marblebox)\n",
    "    if (marblebox[0] != \"Y\" and marblebox[1] != \"Y\"):\n",
    "        a += 1\n",
    "           \n",
    "print(a/Shuffle)"
   ]
  },
  {
   "cell_type": "code",
   "execution_count": 211,
   "metadata": {},
   "outputs": [
    {
     "name": "stdout",
     "output_type": "stream",
     "text": [
      "0.4444444444444444\n"
     ]
    }
   ],
   "source": [
    "#Exact\n",
    "a = 16*16\n",
    "b = 24*24\n",
    "\n",
    "c = a/b\n",
    "\n",
    "print(c)"
   ]
  },
  {
   "attachments": {},
   "cell_type": "markdown",
   "metadata": {},
   "source": [
    "B"
   ]
  },
  {
   "cell_type": "code",
   "execution_count": 212,
   "metadata": {},
   "outputs": [
    {
     "name": "stdout",
     "output_type": "stream",
     "text": [
      "0.304478875\n"
     ]
    }
   ],
   "source": [
    "#The same marble\n",
    "Shuffle = 8000000\n",
    "a = 0\n",
    "\n",
    "for i in range(Shuffle):\n",
    "    np.random.shuffle(marblebox)\n",
    "    if (marblebox[0] == marblebox[1]):\n",
    "        a += 1\n",
    "           \n",
    "print(a/Shuffle)"
   ]
  },
  {
   "cell_type": "code",
   "execution_count": 213,
   "metadata": {},
   "outputs": [
    {
     "name": "stdout",
     "output_type": "stream",
     "text": [
      "0.3333333333333333\n"
     ]
    }
   ],
   "source": [
    "#Exact\n",
    "a = 8/24\n",
    "b = 8/24\n",
    "c = 8/24\n",
    "\n",
    "x = a + b - c\n",
    "\n",
    "print(x)"
   ]
  },
  {
   "attachments": {},
   "cell_type": "markdown",
   "metadata": {},
   "source": [
    "C"
   ]
  },
  {
   "cell_type": "code",
   "execution_count": 214,
   "metadata": {},
   "outputs": [
    {
     "name": "stdout",
     "output_type": "stream",
     "text": [
      "1.0\n"
     ]
    }
   ],
   "source": [
    "#One of each marble \n",
    "Shuffle = 8000000\n",
    "a = 0\n",
    "\n",
    "for i in range(Shuffle):\n",
    "    np.random.shuffle(marblebox)\n",
    "    if (marblebox[0] or marblebox[1] == colors[\"R\",\"Y\",\"G\"]):\n",
    "        a += 1\n",
    "           \n",
    "print(a/Shuffle)"
   ]
  },
  {
   "cell_type": "code",
   "execution_count": 215,
   "metadata": {},
   "outputs": [
    {
     "name": "stdout",
     "output_type": "stream",
     "text": [
      "23.0\n"
     ]
    }
   ],
   "source": [
    "#Exact\n",
    "A = 8/24\n",
    "B = 8/24\n",
    "C = 8/24\n",
    "\n",
    "AnB = 16/24\n",
    "AnC = 16/24\n",
    "BnC = 16/24\n",
    "\n",
    "AnBnC = 24\n",
    "\n",
    "PAuBuC = A + B + C - AnB - AnC - BnC + AnBnC\n",
    "\n",
    "print(PAuBuC)\n"
   ]
  },
  {
   "attachments": {},
   "cell_type": "markdown",
   "metadata": {},
   "source": [
    "5. Solve 3.2.3 a-d manually and verify $ P(H\\cap M) $ by simulation."
   ]
  },
  {
   "attachments": {},
   "cell_type": "markdown",
   "metadata": {},
   "source": [
    "Manual"
   ]
  },
  {
   "cell_type": "code",
   "execution_count": 216,
   "metadata": {},
   "outputs": [
    {
     "data": {
      "text/plain": [
       "[('T', 'T', 'T'),\n",
       " ('T', 'T', 'H'),\n",
       " ('T', 'H', 'T'),\n",
       " ('T', 'H', 'H'),\n",
       " ('H', 'T', 'T'),\n",
       " ('H', 'T', 'H'),\n",
       " ('H', 'H', 'T'),\n",
       " ('H', 'H', 'H')]"
      ]
     },
     "execution_count": 216,
     "metadata": {},
     "output_type": "execute_result"
    }
   ],
   "source": [
    "toss1 = {\"H\", \"T\"}\n",
    "toss2 = {\"H\", \"T\"}\n",
    "toss3 = {\"H\", \"T\"}\n",
    "\n",
    "sampleSpace2 = list(iter.product(toss1, toss2, toss3))\n",
    "sampleSpace2"
   ]
  },
  {
   "cell_type": "code",
   "execution_count": 217,
   "metadata": {},
   "outputs": [
    {
     "data": {
      "text/plain": [
       "8"
      ]
     },
     "execution_count": 217,
     "metadata": {},
     "output_type": "execute_result"
    }
   ],
   "source": [
    "nE = len(sampleSpace2)\n",
    "\n",
    "nE"
   ]
  },
  {
   "attachments": {},
   "cell_type": "markdown",
   "metadata": {},
   "source": [
    "A"
   ]
  },
  {
   "cell_type": "code",
   "execution_count": 218,
   "metadata": {},
   "outputs": [],
   "source": [
    "#at least one heads"
   ]
  },
  {
   "cell_type": "code",
   "execution_count": 219,
   "metadata": {},
   "outputs": [
    {
     "name": "stdout",
     "output_type": "stream",
     "text": [
      "7\n"
     ]
    }
   ],
   "source": [
    "for i in sampleSpace2:\n",
    "    nA = sum(1 for x in sampleSpace2 if x[0] == \"H\" or x[1] == \"H\" or x[2] == \"H\")\n",
    "\n",
    "print(nA)"
   ]
  },
  {
   "cell_type": "code",
   "execution_count": 220,
   "metadata": {},
   "outputs": [
    {
     "name": "stdout",
     "output_type": "stream",
     "text": [
      "{('T', 'H', 'T'), ('H', 'T', 'H'), ('T', 'T', 'H'), ('H', 'T', 'T'), ('H', 'H', 'H'), ('T', 'H', 'H'), ('H', 'H', 'T')}\n"
     ]
    }
   ],
   "source": [
    "for i in sampleSpace2:\n",
    "    H = {(outcome)for outcome in sampleSpace2 if \"H\" in outcome}\n",
    "    \n",
    "print(H)"
   ]
  },
  {
   "cell_type": "code",
   "execution_count": 221,
   "metadata": {},
   "outputs": [
    {
     "name": "stdout",
     "output_type": "stream",
     "text": [
      "0.875\n"
     ]
    }
   ],
   "source": [
    "P = nA/nE\n",
    "print(P)"
   ]
  },
  {
   "attachments": {},
   "cell_type": "markdown",
   "metadata": {},
   "source": [
    "A2"
   ]
  },
  {
   "cell_type": "code",
   "execution_count": 222,
   "metadata": {},
   "outputs": [],
   "source": [
    "#more heads than tails"
   ]
  },
  {
   "cell_type": "code",
   "execution_count": 223,
   "metadata": {},
   "outputs": [
    {
     "name": "stdout",
     "output_type": "stream",
     "text": [
      "4\n"
     ]
    }
   ],
   "source": [
    "for i in sampleSpace2:\n",
    "    nA = sum(1 for x in sampleSpace2 if x.count(\"H\") > x.count(\"T\"))\n",
    "    \n",
    "print(nA)"
   ]
  },
  {
   "cell_type": "code",
   "execution_count": 224,
   "metadata": {},
   "outputs": [
    {
     "name": "stdout",
     "output_type": "stream",
     "text": [
      "{('H', 'H', 'T'), ('H', 'H', 'H'), ('H', 'T', 'H'), ('T', 'H', 'H')}\n"
     ]
    }
   ],
   "source": [
    "for i in sampleSpace2:\n",
    "    M = {(outcome)for outcome in sampleSpace2 if outcome.count(\"H\") > outcome.count(\"T\")}\n",
    "        \n",
    "print(M)"
   ]
  },
  {
   "cell_type": "code",
   "execution_count": 225,
   "metadata": {},
   "outputs": [
    {
     "name": "stdout",
     "output_type": "stream",
     "text": [
      "0.5\n"
     ]
    }
   ],
   "source": [
    "P = nA/nE\n",
    "print(P)"
   ]
  },
  {
   "attachments": {},
   "cell_type": "markdown",
   "metadata": {},
   "source": [
    "B"
   ]
  },
  {
   "attachments": {},
   "cell_type": "markdown",
   "metadata": {},
   "source": [
    "H∩M"
   ]
  },
  {
   "cell_type": "code",
   "execution_count": 226,
   "metadata": {},
   "outputs": [
    {
     "name": "stdout",
     "output_type": "stream",
     "text": [
      "[('H', 'H', 'H'), ('H', 'T', 'H'), ('H', 'H', 'T'), ('T', 'H', 'H')]\n"
     ]
    }
   ],
   "source": [
    "result = H.intersection(M)\n",
    "print(list(result))"
   ]
  },
  {
   "attachments": {},
   "cell_type": "markdown",
   "metadata": {},
   "source": [
    "H∪M"
   ]
  },
  {
   "cell_type": "code",
   "execution_count": 227,
   "metadata": {},
   "outputs": [
    {
     "name": "stdout",
     "output_type": "stream",
     "text": [
      "[('T', 'H', 'T'), ('H', 'T', 'H'), ('T', 'T', 'H'), ('H', 'T', 'T'), ('H', 'H', 'H'), ('T', 'H', 'H'), ('H', 'H', 'T')]\n"
     ]
    }
   ],
   "source": [
    "result = H.union(M)\n",
    "print(list(result))"
   ]
  },
  {
   "attachments": {},
   "cell_type": "markdown",
   "metadata": {},
   "source": [
    "H^C"
   ]
  },
  {
   "cell_type": "code",
   "execution_count": 228,
   "metadata": {},
   "outputs": [
    {
     "name": "stdout",
     "output_type": "stream",
     "text": [
      "{('T', 'T', 'T')}\n"
     ]
    }
   ],
   "source": [
    "samplespaceSET = set(sampleSpace2)\n",
    "result = samplespaceSET.difference(H)\n",
    "print(result)"
   ]
  },
  {
   "attachments": {},
   "cell_type": "markdown",
   "metadata": {},
   "source": [
    "C"
   ]
  },
  {
   "cell_type": "code",
   "execution_count": 229,
   "metadata": {},
   "outputs": [
    {
     "name": "stdout",
     "output_type": "stream",
     "text": [
      "0.5 0.875 0.125\n"
     ]
    }
   ],
   "source": [
    "#P(HnM) \n",
    "#The formula is P(A∩B) = P(H) × P(M)\n",
    "H1 = 7/8\n",
    "MgivenH = 4/7\n",
    "\n",
    "PHnM = 7/8 * MgivenH\n",
    "\n",
    "#P(HuM)\n",
    "#P(A) + P(B) - P(A and B)\n",
    "PHuM = 7/8 + 1/2 - PHnM\n",
    "\n",
    "#P(H^c)\n",
    "#P(H^c) = 1 − P(A)\n",
    "\n",
    "PHc = 1 - H1\n",
    "\n",
    "print(PHnM, PHuM, PHc)"
   ]
  },
  {
   "attachments": {},
   "cell_type": "markdown",
   "metadata": {},
   "source": [
    "H^c and M are not mutually exclusive because they share no common elements"
   ]
  },
  {
   "attachments": {},
   "cell_type": "markdown",
   "metadata": {},
   "source": [
    "Simulation of P(HnM)"
   ]
  },
  {
   "cell_type": "code",
   "execution_count": 247,
   "metadata": {},
   "outputs": [
    {
     "name": "stdout",
     "output_type": "stream",
     "text": [
      "0.50001625\n"
     ]
    }
   ],
   "source": [
    "#Simulation of P(H and M)\n",
    "\n",
    "nShuffles = 800000\n",
    "count = 0\n",
    "\n",
    "for i in range(nShuffles):\n",
    "    np.random.shuffle(sampleSpace2)\n",
    "    if sampleSpace2[0].count(\"H\") >= 1:\n",
    "        if sampleSpace2[0].count(\"H\") >= 2:\n",
    "            count += 1\n",
    "            \n",
    "print(count/nShuffles)"
   ]
  },
  {
   "attachments": {},
   "cell_type": "markdown",
   "metadata": {},
   "source": [
    "6.  The probability of a bad component in a sample of 80 components is 0.15. Simulate the probability that in sample there will be at most 5 bad components."
   ]
  },
  {
   "cell_type": "code",
   "execution_count": 231,
   "metadata": {},
   "outputs": [
    {
     "name": "stdout",
     "output_type": "stream",
     "text": [
      "Average: 12.003209679032096\n"
     ]
    },
    {
     "data": {
      "image/png": "[encoded data removed]",
      "text/plain": [
       "<Figure size 640x480 with 1 Axes>"
      ]
     },
     "metadata": {},
     "output_type": "display_data"
    }
   ],
   "source": [
    "sampleSize = 80\n",
    "threshold = 0.15\n",
    "nSamples = 100010\n",
    "\n",
    "nBad = np.zeros(nSamples)\n",
    "for i in range(nSamples):\n",
    "    batch = np.random.uniform(0,1,sampleSize)\n",
    "    nBad[i] = sum(1 for x in batch if x <= threshold)\n",
    "\n",
    "print(f\"Average: {np.average(nBad):0.15f}\")\n",
    "plt.hist(x=nBad,histtype='barstacked')\n",
    "plt.show()"
   ]
  }
 ],
 "metadata": {
  "kernelspec": {
   "display_name": "base",
   "language": "python",
   "name": "python3"
  },
  "language_info": {
   "codemirror_mode": {
    "name": "ipython",
    "version": 3
   },
   "file_extension": ".py",
   "mimetype": "text/x-python",
   "name": "python",
   "nbconvert_exporter": "python",
   "pygments_lexer": "ipython3",
   "version": "3.10.6"
  },
  "orig_nbformat": 4
 },
 "nbformat": 4,
 "nbformat_minor": 2
}
